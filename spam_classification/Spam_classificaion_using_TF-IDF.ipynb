{
 "cells": [
  {
   "cell_type": "code",
   "execution_count": 32,
   "id": "0f96be40-7c34-4356-9070-c97c1ad72a09",
   "metadata": {},
   "outputs": [],
   "source": [
    "import nltk\n",
    "from nltk.corpus import stopwords\n",
    "import re\n",
    "from nltk.stem import WordNetLemmatizer\n",
    "from sklearn.feature_extraction.text import TfidfVectorizer\n",
    "from sklearn.model_selection import train_test_split\n",
    "from sklearn.naive_bayes import MultinomialNB\n",
    "from sklearn.metrics import accuracy_score\n",
    "import pandas as pd"
   ]
  },
  {
   "cell_type": "code",
   "execution_count": 33,
   "id": "a5d54c32-eb94-446e-a1b7-2cd6a094c28a",
   "metadata": {},
   "outputs": [],
   "source": [
    "nltk.data.path.append(r'D:\\Downloads\\NLTK_LEARNING\\nltk\\Lib\\site-packages\\nltk_data')"
   ]
  },
  {
   "cell_type": "code",
   "execution_count": 34,
   "id": "9124b9e4-21e2-43d2-b7d1-2f906003453d",
   "metadata": {},
   "outputs": [],
   "source": [
    "# importing the Dataset\n",
    "messages = pd.read_csv(r'D:\\Downloads\\NLTK_LEARNING\\spam_classification\\SMSSpamCollection', sep='\\t',names=[\"label\", \"message\"])"
   ]
  },
  {
   "cell_type": "code",
   "execution_count": 35,
   "id": "f24d936b-7ec8-4d6c-afa2-612f9ef688e6",
   "metadata": {},
   "outputs": [],
   "source": [
    "#data cleaning ---> remove stop words , numeric data ,lower the case \n",
    "lemma=WordNetLemmatizer()\n",
    "stop_words=stopwords.words('english')\n",
    "corpus=[]\n",
    "for i in range(0,len(messages)):\n",
    "    review=re.sub('[^a-zA-Z]','',messages['message'][i])\n",
    "    review=review.lower()\n",
    "    review=review.split()\n",
    "    review=[lemma.lemmatize(word) for word in review if word not in stop_words]\n",
    "    review=\"\".join(review)\n",
    "    corpus.append(review)\n",
    "\n",
    "    \n",
    "    "
   ]
  },
  {
   "cell_type": "code",
   "execution_count": 36,
   "id": "34d7b359-a8f6-465b-b714-78da5d4ae3a3",
   "metadata": {},
   "outputs": [
    {
     "data": {
      "text/plain": [
       "array([[0., 0., 0., ..., 0., 0., 0.],\n",
       "       [0., 0., 0., ..., 0., 0., 0.],\n",
       "       [0., 0., 0., ..., 0., 0., 0.],\n",
       "       ...,\n",
       "       [0., 0., 0., ..., 0., 0., 0.],\n",
       "       [0., 0., 0., ..., 0., 0., 0.],\n",
       "       [0., 0., 0., ..., 0., 0., 0.]])"
      ]
     },
     "execution_count": 36,
     "metadata": {},
     "output_type": "execute_result"
    }
   ],
   "source": [
    "#convert to vector   these are independent features\n",
    "cv=TfidfVectorizer()\n",
    "X=cv.fit_transform(corpus).toarray()\n",
    "X"
   ]
  },
  {
   "cell_type": "code",
   "execution_count": 37,
   "id": "6d52798d-a4c2-4d3b-ae1c-e7685690d343",
   "metadata": {},
   "outputs": [
    {
     "data": {
      "text/plain": [
       "array([False, False,  True, ..., False, False, False])"
      ]
     },
     "execution_count": 37,
     "metadata": {},
     "output_type": "execute_result"
    }
   ],
   "source": [
    "#y dependent feature\n",
    "y=pd.get_dummies(messages['label'])\n",
    "y=y.iloc[:,1].values #select all the rows of spam columns\n",
    "y\n"
   ]
  },
  {
   "cell_type": "code",
   "execution_count": 38,
   "id": "f46a1158-9c76-4807-9a28-03c9eff682e5",
   "metadata": {},
   "outputs": [],
   "source": [
    "#train_test_split\n",
    "X_train,X_test,y_train,y_test=train_test_split(X,y,test_size=0.20,random_state=0)"
   ]
  },
  {
   "cell_type": "code",
   "execution_count": 39,
   "id": "364ac038-f563-4527-ac95-e04e444496aa",
   "metadata": {},
   "outputs": [
    {
     "data": {
      "text/plain": [
       "array([False, False, False, ..., False, False, False])"
      ]
     },
     "execution_count": 39,
     "metadata": {},
     "output_type": "execute_result"
    }
   ],
   "source": [
    "#model \n",
    "model=MultinomialNB()\n",
    "model.fit(X_train,y_train)\n",
    "y_predict=model.predict(X_test)\n",
    "y_predict"
   ]
  },
  {
   "cell_type": "code",
   "execution_count": 40,
   "id": "088e39c7-cdeb-420f-b1aa-03354783f17b",
   "metadata": {},
   "outputs": [],
   "source": [
    "#accuracy\n",
    "accuracy=accuracy_score(y_predict,y_test)"
   ]
  },
  {
   "cell_type": "code",
   "execution_count": 41,
   "id": "ac03db31-b5a6-417e-9e42-de65795cf5ff",
   "metadata": {},
   "outputs": [
    {
     "data": {
      "text/plain": [
       "0.8600896860986547"
      ]
     },
     "execution_count": 41,
     "metadata": {},
     "output_type": "execute_result"
    }
   ],
   "source": [
    "accuracy"
   ]
  },
  {
   "cell_type": "code",
   "execution_count": null,
   "id": "954fba06-223a-4954-8c90-78d0af082e2e",
   "metadata": {},
   "outputs": [],
   "source": []
  }
 ],
 "metadata": {
  "kernelspec": {
   "display_name": "Python 3 (ipykernel)",
   "language": "python",
   "name": "python3"
  },
  "language_info": {
   "codemirror_mode": {
    "name": "ipython",
    "version": 3
   },
   "file_extension": ".py",
   "mimetype": "text/x-python",
   "name": "python",
   "nbconvert_exporter": "python",
   "pygments_lexer": "ipython3",
   "version": "3.12.7"
  }
 },
 "nbformat": 4,
 "nbformat_minor": 5
}
